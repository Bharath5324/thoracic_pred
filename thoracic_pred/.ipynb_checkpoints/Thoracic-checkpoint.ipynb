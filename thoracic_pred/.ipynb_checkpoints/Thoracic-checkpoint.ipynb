{
 "cells": [
  {
   "cell_type": "code",
   "execution_count": null,
   "metadata": {},
   "outputs": [],
   "source": [
    "import pandas as pd\n",
    "import numpy as np\n",
    "import seaborn as sns\n",
    "import matplotlib.pyplot as plt"
   ]
  },
  {
   "cell_type": "code",
   "execution_count": null,
   "metadata": {
    "scrolled": true
   },
   "outputs": [],
   "source": [
    "data = pd.read_csv('./thoracic-data.csv')\n",
    "# data = pd.DataFrame(data=rand.drop('id', index=1), index=rand['id'])\n",
    "data"
   ]
  },
  {
   "cell_type": "code",
   "execution_count": null,
   "metadata": {},
   "outputs": [],
   "source": [
    "data.index = data['id']\n",
    "data.drop('id', axis = 1, inplace=True)"
   ]
  },
  {
   "cell_type": "code",
   "execution_count": null,
   "metadata": {
    "scrolled": true
   },
   "outputs": [],
   "source": [
    "data"
   ]
  },
  {
   "cell_type": "code",
   "execution_count": null,
   "metadata": {},
   "outputs": [],
   "source": [
    "from sklearn.preprocessing import LabelEncoder\n",
    "le = LabelEncoder()"
   ]
  },
  {
   "cell_type": "code",
   "execution_count": null,
   "metadata": {},
   "outputs": [],
   "source": [
    "encs = []\n",
    "data['DGN'] = le.fit_transform(data['DGN'])\n",
    "encs.append(le)\n",
    "data['PRE4'] = le.fit_transform(data['PRE4'])\n",
    "encs.append(le)\n",
    "data['PRE5'] = le.fit_transform(data['PRE5'])\n",
    "encs.append(le)\n",
    "data['PRE6'] = le.fit_transform(data['PRE6'])\n",
    "encs.append(le)\n",
    "data['PRE7'] = le.fit_transform(data['PRE7'])\n",
    "encs.append(le)\n",
    "data['PRE8'] = le.fit_transform(data['PRE8'])\n",
    "encs.append(le)\n",
    "data['PRE9'] = le.fit_transform(data['PRE9'])\n",
    "encs.append(le)\n",
    "data['PRE10'] = le.fit_transform(data['PRE10'])\n",
    "encs.append(le)\n",
    "data['PRE11'] = le.fit_transform(data['PRE11'])\n",
    "encs.append(le)\n",
    "data['PRE14'] = le.fit_transform(data['PRE14'])\n",
    "encs.append(le)\n",
    "data['PRE17'] = le.fit_transform(data['PRE17'])\n",
    "encs.append(le)\n",
    "data['PRE19'] = le.fit_transform(data['PRE19'])\n",
    "encs.append(le)\n",
    "data['PRE25'] = le.fit_transform(data['PRE25'])\n",
    "encs.append(le)\n",
    "data['PRE30'] = le.fit_transform(data['PRE30'])\n",
    "encs.append(le)\n",
    "data['PRE32'] = le.fit_transform(data['PRE32'])\n",
    "encs.append(le)\n",
    "data['Risk1Yr'] = le.fit_transform(data['Risk1Yr'])\n",
    "encs"
   ]
  },
  {
   "cell_type": "code",
   "execution_count": null,
   "metadata": {
    "scrolled": true
   },
   "outputs": [],
   "source": [
    "data['Risk1Yr'].value_counts()"
   ]
  },
  {
   "cell_type": "code",
   "execution_count": null,
   "metadata": {
    "scrolled": true
   },
   "outputs": [],
   "source": [
    "y = data['Risk1Yr']\n",
    "x = data.drop(['Risk1Yr'], axis = 1)\n",
    "x"
   ]
  },
  {
   "cell_type": "code",
   "execution_count": null,
   "metadata": {},
   "outputs": [],
   "source": [
    "y"
   ]
  },
  {
   "cell_type": "code",
   "execution_count": null,
   "metadata": {},
   "outputs": [],
   "source": [
    "from sklearn.model_selection import train_test_split"
   ]
  },
  {
   "cell_type": "code",
   "execution_count": null,
   "metadata": {},
   "outputs": [],
   "source": [
    "x_train, x_test, y_train, y_test = train_test_split(x, y, test_size = 0.3)"
   ]
  },
  {
   "cell_type": "code",
   "execution_count": null,
   "metadata": {},
   "outputs": [],
   "source": [
    "print(x_train.shape)\n",
    "print(x_test.shape)\n",
    "print(y_train.shape)\n",
    "print(y_test.shape)"
   ]
  },
  {
   "cell_type": "code",
   "execution_count": null,
   "metadata": {},
   "outputs": [],
   "source": [
    "from sklearn.svm import SVC\n",
    "classifier = SVC(kernel = 'poly', random_state = 1 )"
   ]
  },
  {
   "cell_type": "code",
   "execution_count": null,
   "metadata": {
    "scrolled": true
   },
   "outputs": [],
   "source": [
    "classifier.fit(x_train, y_train)\n",
    "y_pred = classifier.predict(x_test)"
   ]
  },
  {
   "cell_type": "code",
   "execution_count": null,
   "metadata": {},
   "outputs": [],
   "source": [
    "y_pred = classifier.predict(x_test)\n",
    "from sklearn import metrics\n",
    "\n",
    "print(metrics.accuracy_score(y_test, y_pred))\n",
    "print(metrics.confusion_matrix(y_test, y_pred))\n",
    "\n",
    "conf_mat = metrics.confusion_matrix(y_test, y_pred)\n",
    "TP = conf_mat[0,0]\n",
    "FP = conf_mat[1,0]\n",
    "TN = conf_mat[1,1]\n",
    "FN = conf_mat[0,1]\n",
    "print(conf_mat)\n",
    "\n",
    "sensitivity = TP/(TP+FN)\n",
    "specificity = TN/(TN+FP)\n",
    "precision = TP/(TP+FP)\n",
    "pred_val = TN/(TN + FN)\n",
    "accuracy = (TP + FN)/ (TP + TN + FP + FN)\n",
    "\n",
    "print(\"sensitivity: \", sensitivity)\n",
    "print(\"Precision: \", precision)\n",
    "print(\"Specificity: \", specificity)\n",
    "print(\"Predicted Value: \", pred_val)\n",
    "print(\"Accuracy: \", accuracy)\n",
    "print(\"Precision Score: \", metrics.precision_score(y_test, y_pred))\n",
    "print(\"Recall Score: \", metrics.recall_score(y_test, y_pred))\n",
    "print(\"F1 Score: \", metrics.f1_score(y_test, y_pred))"
   ]
  },
  {
   "cell_type": "code",
   "execution_count": null,
   "metadata": {},
   "outputs": [],
   "source": [
    "from os import system, name \n",
    "def clear():\n",
    "    if name == 'nt': \n",
    "        _ = system('cls') \n",
    "    else: \n",
    "        _ = system('clear') "
   ]
  },
  {
   "cell_type": "code",
   "execution_count": null,
   "metadata": {},
   "outputs": [],
   "source": [
    "# def userinp():\n",
    "put = []\n",
    "put.append(input(\"Please enter the disease your diagnosed wth from the following options: \\nDGN3, DGN2, DGN4, DGN6, DGN5, DGN8, DGN1. \\n\"))\n",
    "clear()\n",
    "put.append(float(input(\"Please enter your forced vital capacity:\\n\")))\n",
    "clear()\n",
    "put.append(float(input(\"Please enter the value of you FEV1:\\n\")))\n",
    "clear()\n",
    "put.append(input(\"Please enter the disease your Performance Status from the following options: \\nPRZ2, PRZ1, PRZ0. \\n\\n\"))\n",
    "clear()\n",
    "put.append(input(\"Please enter 'T' if you've experienced any pain before surgery andd 'F' if not\\n\"))\n",
    "clear()\n",
    "put.append(input(\"Please enter 'T' if you've experienced any haemoptysis before surgery andd 'F' if not\\n\"))\n",
    "clear()\n",
    "put.append(input(\"Please enter 'T' if you've experienced any Dyspnoea before surgery andd 'F' if not\\n\"))\n",
    "clear()\n",
    "put.append(input(\"Please enter 'T' if you've had any cough before surgery andd 'F' if not\\n\"))\n",
    "clear()\n",
    "put.append(input(\"Please enter 'T' if you've had any weakness before surgery andd 'F' if not\\n\"))\n",
    "clear()\n",
    "put.append(input(\"Please enter the size of the tumour from the following options: \\nOC11, OC12, OC13, OC14(With OC11 being the samllest and OC14 the largest )\\n\"))\n",
    "clear()\n",
    "put.append(input(\"Please enter 'T' if you've had any diabetes mellitus(DM) before surgery andd 'F' if not\\n\"))\n",
    "clear()\n",
    "put.append(input(\"Please enter 'T' if you've had any MI (Myocardial Infarction) before surgery andd 'F' if not\\n\"))\n",
    "clear()\n",
    "put.append(input(\"Please enter 'T' if you've had any peripheral arterial diseases  before surgery andd 'F' if not\\n\"))\n",
    "clear()\n",
    "put.append(input(\"Please enter 'T' if you've a habit of smoking and 'F' if not\\n\"))\n",
    "clear()\n",
    "put.append(input(\"Please enter 'T' if you've asthma and 'F' if not\\n\"))\n",
    "clear()\n",
    "put.append(input(\"Please enter your age:\\n\"))\n",
    "clear()\n",
    "temp = pd.DataFrame(put,index = x.columns).transpose()\n",
    "dat = pd.read_csv('./thoracic-data.csv').drop(['id', 'Risk1Yr'], axis = 1)\n",
    "for i in list(dat.columns):\n",
    "    if i !='AGE':\n",
    "        le.fit(dat[i])\n",
    "        le.transform(temp[i])\n",
    "if classifier.predict(temp) == 0:\n",
    "    print(\"You've been tested negative of the risk in dying within one year\")\n",
    "else:\n",
    "    print(\"You've been tested negative of the risk in dying within one year\")"
   ]
  }
 ],
 "metadata": {
  "kernelspec": {
   "display_name": "Python 3",
   "language": "python",
   "name": "python3"
  },
  "language_info": {
   "codemirror_mode": {
    "name": "ipython",
    "version": 3
   },
   "file_extension": ".py",
   "mimetype": "text/x-python",
   "name": "python",
   "nbconvert_exporter": "python",
   "pygments_lexer": "ipython3",
   "version": "3.6.9"
  }
 },
 "nbformat": 4,
 "nbformat_minor": 4
}
